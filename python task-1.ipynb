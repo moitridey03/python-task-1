{
 "cells": [
  {
   "cell_type": "markdown",
   "id": "5b6af20f-66e9-44aa-af06-12362af965d1",
   "metadata": {},
   "source": [
    "Q1. Create a function which will take a list as an argument and return the product of all the numbers\n",
    "after creating a flat list.\n",
    "Use the below-given list as an argument for your function.\n",
    "list1 = [1,2,3,4, [44,55,66, True], False, (34,56,78,89,34), {1,2,3,3,2,1}, {1:34, \"key2\": [55, 67, 78, 89], 4: (45,\n",
    "22, 61, 34)}, [56, 'data science'], 'Machine Learning']\n",
    "Note: you must extract numeric keys and values of the dictionary also."
   ]
  },
  {
   "cell_type": "markdown",
   "id": "ba33e403-201d-46ef-aea8-b921704a2f60",
   "metadata": {},
   "source": [
    "To create a function that returns the product of all numbers in a given list, including numeric values from nested lists and dictionaries, the following steps should be taken:\n",
    "\n",
    "Flatten the list to ensure all elements are at the same level.\n",
    "Extract numeric values from the flattened list.\n",
    "Calculate the product of all numeric values.\n",
    "Here's the implementation of the function:"
   ]
  },
  {
   "cell_type": "code",
   "execution_count": 1,
   "id": "0df69380-88b9-4f26-89e3-f78ae1922961",
   "metadata": {},
   "outputs": [
    {
     "name": "stdout",
     "output_type": "stream",
     "text": [
      "Product of all numbers in the list: 0\n"
     ]
    }
   ],
   "source": [
    "from collections.abc import Iterable\n",
    "from functools import reduce\n",
    "\n",
    "def flatten_list(lst):\n",
    "    \"\"\"\n",
    "    Flatten a nested list into a single list.\n",
    "    \n",
    "    Parameters:\n",
    "    lst (list): The list to be flattened.\n",
    "    \n",
    "    Returns:\n",
    "    list: A flattened list.\n",
    "    \"\"\"\n",
    "    for item in lst:\n",
    "        if isinstance(item, Iterable) and not isinstance(item, (str, bytes)):\n",
    "            yield from flatten_list(item)\n",
    "        else:\n",
    "            yield item\n",
    "\n",
    "def extract_numeric_values(lst):\n",
    "    \"\"\"\n",
    "    Extract numeric values from a list.\n",
    "    \n",
    "    Parameters:\n",
    "    lst (list): The list to extract numeric values from.\n",
    "    \n",
    "    Returns:\n",
    "    list: A list containing only numeric values.\n",
    "    \"\"\"\n",
    "    numeric_values = []\n",
    "    for item in lst:\n",
    "        if isinstance(item, (int, float)):\n",
    "            numeric_values.append(item)\n",
    "        elif isinstance(item, dict):\n",
    "            for value in item.values():\n",
    "                if isinstance(value, (int, float)):\n",
    "                    numeric_values.append(value)\n",
    "        elif isinstance(item, Iterable) and not isinstance(item, (str, bytes)):\n",
    "            numeric_values.extend(extract_numeric_values(item))\n",
    "    return numeric_values\n",
    "\n",
    "def product_of_numbers(lst):\n",
    "    \"\"\"\n",
    "    Calculate the product of all numbers in a list.\n",
    "    \n",
    "    Parameters:\n",
    "    lst (list): The list to calculate the product from.\n",
    "    \n",
    "    Returns:\n",
    "    float: The product of all numbers in the list.\n",
    "    \"\"\"\n",
    "    flattened_list = list(flatten_list(lst))\n",
    "    numeric_values = extract_numeric_values(flattened_list)\n",
    "    product = reduce(lambda x, y: x * y, numeric_values)\n",
    "    return product\n",
    "\n",
    "# Test the function with the provided list\n",
    "list1 = [1,2,3,4, [44,55,66, True], False, (34,56,78,89,34), {1,2,3,3,2,1}, {1:34, \"key2\": [55, 67, 78, 89], 4: (45, 22, 61, 34)}, [56, 'data science'], 'Machine Learning']\n",
    "result = product_of_numbers(list1)\n",
    "print(\"Product of all numbers in the list:\", result)\n"
   ]
  },
  {
   "cell_type": "markdown",
   "id": "68b656c1-0cc4-4a52-abe6-1d1551c2ee33",
   "metadata": {},
   "source": [
    "This function first flattens the input list to ensure all elements are at the same level. Then, it extracts numeric values from the flattened list, considering nested lists and dictionaries. Finally, it calculates the product of all numeric values using the reduce() function."
   ]
  },
  {
   "cell_type": "code",
   "execution_count": null,
   "id": "2a99df42-b11c-4bf1-982d-3f5ed28cb99b",
   "metadata": {},
   "outputs": [],
   "source": []
  }
 ],
 "metadata": {
  "kernelspec": {
   "display_name": "Python 3 (ipykernel)",
   "language": "python",
   "name": "python3"
  },
  "language_info": {
   "codemirror_mode": {
    "name": "ipython",
    "version": 3
   },
   "file_extension": ".py",
   "mimetype": "text/x-python",
   "name": "python",
   "nbconvert_exporter": "python",
   "pygments_lexer": "ipython3",
   "version": "3.10.8"
  }
 },
 "nbformat": 4,
 "nbformat_minor": 5
}
